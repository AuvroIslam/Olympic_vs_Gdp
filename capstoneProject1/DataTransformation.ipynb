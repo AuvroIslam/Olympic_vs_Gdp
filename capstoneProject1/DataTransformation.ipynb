{
 "cells": [
  {
   "cell_type": "code",
   "execution_count": 10,
   "metadata": {},
   "outputs": [
    {
     "name": "stdout",
     "output_type": "stream",
     "text": [
      "       Country   1990   1991   1992   1993   1994   1995   1996   1997   1998  \\\n",
      "0  Afghanistan    NaN    NaN    NaN    NaN    NaN    NaN    NaN    NaN    NaN   \n",
      "1      Albania    676    408    260    453    736    904  1,010    707    817   \n",
      "2      Algeria  2,684  1,975  2,033  2,057  1,675  1,627  1,783  1,800  1,772   \n",
      "3      Andorra    NaN    NaN    NaN    NaN    NaN    NaN    NaN    NaN    NaN   \n",
      "4       Angola  1,397  1,310    978    688    485    586    731    830    681   \n",
      "\n",
      "   ...    2020    2021    2022    2023    2024    2025    2026    2027  \\\n",
      "0  ...     517     356     352     411     NaN                           \n",
      "1  ...   5,353   6,396   6,870   8,299   9,598  10,386  11,211  11,938   \n",
      "2  ...   3,758   4,170   4,982   5,222   5,579   5,593   5,646   5,681   \n",
      "3  ...  36,974  41,807  41,379  43,810  45,279  45,995  46,819  47,330   \n",
      "4  ...   1,990   2,445   3,975   2,967   2,961   2,991   3,030   3,141   \n",
      "\n",
      "     2028    2029  \n",
      "0                  \n",
      "1  12,714  13,543  \n",
      "2   5,706   5,734  \n",
      "3  47,873  48,458  \n",
      "4   3,222   3,316  \n",
      "\n",
      "[5 rows x 41 columns]\n"
     ]
    }
   ],
   "source": [
    "import pandas as pd\n",
    "import numpy as np\n",
    "gdp_df = pd.read_csv('gdp_per_capita.csv')\n",
    "gdp_df.rename(columns={'Country (or dependent territory)':'Country'}, inplace=True)\n",
    "print(gdp_df.head())"
   ]
  },
  {
   "cell_type": "markdown",
   "metadata": {},
   "source": [
    "filling the - values with 0 in olympic dataset"
   ]
  },
  {
   "cell_type": "code",
   "execution_count": 4,
   "metadata": {},
   "outputs": [
    {
     "name": "stdout",
     "output_type": "stream",
     "text": [
      "        Venue    Country  Gold  Silver  Bronze  Total\n",
      "0  paris-2024        AIN     1       3       1      5\n",
      "1  paris-2024    Albania     0       0       2      2\n",
      "2  paris-2024    Algeria     2       0       1      3\n",
      "3  paris-2024  Argentina     1       1       1      3\n",
      "4  paris-2024    Armenia     0       3       1      4\n"
     ]
    }
   ],
   "source": [
    "olympics_df =pd.read_csv('Olympic_medals.csv')\n",
    "def fixMedals(col):\n",
    "    return olympics_df[col].replace('-', '0').astype(int)\n",
    "\n",
    "olympics_df['Gold'] = fixMedals('Gold')\n",
    "olympics_df['Silver'] = fixMedals('Silver')\n",
    "olympics_df['Bronze'] = fixMedals('Bronze')\n",
    "olympics_df['Total'] = fixMedals('Total')\n",
    "\n",
    "\n",
    "olympics_df.drop(columns=\"Image URL\",inplace=True)\n",
    "\n",
    "print(olympics_df.head())"
   ]
  },
  {
   "cell_type": "markdown",
   "metadata": {},
   "source": [
    "filling nan with after calculating average gdp growth"
   ]
  },
  {
   "cell_type": "code",
   "execution_count": 11,
   "metadata": {},
   "outputs": [
    {
     "name": "stderr",
     "output_type": "stream",
     "text": [
      "C:\\Users\\mnuru\\AppData\\Local\\Temp\\ipykernel_150352\\63015742.py:16: FutureWarning: Downcasting object dtype arrays on .fillna, .ffill, .bfill is deprecated and will change in a future version. Call result.infer_objects(copy=False) instead. To opt-in to the future behavior, set `pd.set_option('future.no_silent_downcasting', True)`\n",
      "  growth_rates = valid_gdp.pct_change().dropna()\n",
      "C:\\Users\\mnuru\\AppData\\Local\\Temp\\ipykernel_150352\\63015742.py:21: FutureWarning: Series.__getitem__ treating keys as positions is deprecated. In a future version, integer keys will always be treated as labels (consistent with DataFrame behavior). To access a value by position, use `ser.iloc[pos]`\n",
      "  if pd.isna(gdp_values[i]):\n",
      "C:\\Users\\mnuru\\AppData\\Local\\Temp\\ipykernel_150352\\63015742.py:27: FutureWarning: Series.__getitem__ treating keys as positions is deprecated. In a future version, integer keys will always be treated as labels (consistent with DataFrame behavior). To access a value by position, use `ser.iloc[pos]`\n",
      "  while future_index < len(gdp_values) and pd.isna(gdp_values[future_index]):\n",
      "C:\\Users\\mnuru\\AppData\\Local\\Temp\\ipykernel_150352\\63015742.py:31: FutureWarning: Series.__getitem__ treating keys as positions is deprecated. In a future version, integer keys will always be treated as labels (consistent with DataFrame behavior). To access a value by position, use `ser.iloc[pos]`\n",
      "  future_value = gdp_values[future_index]\n",
      "C:\\Users\\mnuru\\AppData\\Local\\Temp\\ipykernel_150352\\63015742.py:33: FutureWarning: Series.__setitem__ treating keys as positions is deprecated. In a future version, integer keys will always be treated as labels (consistent with DataFrame behavior). To set a value by position, use `ser.iloc[pos] = value`\n",
      "  gdp_values[i] = future_value / ((1 + avg_growth_rate) ** steps)\n",
      "C:\\Users\\mnuru\\AppData\\Local\\Temp\\ipykernel_150352\\63015742.py:37: FutureWarning: Series.__getitem__ treating keys as positions is deprecated. In a future version, integer keys will always be treated as labels (consistent with DataFrame behavior). To access a value by position, use `ser.iloc[pos]`\n",
      "  gdp_values[i] = gdp_values[i].round(1)\n",
      "C:\\Users\\mnuru\\AppData\\Local\\Temp\\ipykernel_150352\\63015742.py:37: FutureWarning: Series.__setitem__ treating keys as positions is deprecated. In a future version, integer keys will always be treated as labels (consistent with DataFrame behavior). To set a value by position, use `ser.iloc[pos] = value`\n",
      "  gdp_values[i] = gdp_values[i].round(1)\n",
      "C:\\Users\\mnuru\\AppData\\Local\\Temp\\ipykernel_150352\\63015742.py:22: FutureWarning: Series.__getitem__ treating keys as positions is deprecated. In a future version, integer keys will always be treated as labels (consistent with DataFrame behavior). To access a value by position, use `ser.iloc[pos]`\n",
      "  if i > 0 and not pd.isna(gdp_values[i - 1]):\n",
      "C:\\Users\\mnuru\\AppData\\Local\\Temp\\ipykernel_150352\\63015742.py:23: FutureWarning: Series.__getitem__ treating keys as positions is deprecated. In a future version, integer keys will always be treated as labels (consistent with DataFrame behavior). To access a value by position, use `ser.iloc[pos]`\n",
      "  gdp_values[i] = gdp_values[i - 1] * (1 + avg_growth_rate)\n",
      "C:\\Users\\mnuru\\AppData\\Local\\Temp\\ipykernel_150352\\63015742.py:23: FutureWarning: Series.__setitem__ treating keys as positions is deprecated. In a future version, integer keys will always be treated as labels (consistent with DataFrame behavior). To set a value by position, use `ser.iloc[pos] = value`\n",
      "  gdp_values[i] = gdp_values[i - 1] * (1 + avg_growth_rate)\n"
     ]
    },
    {
     "name": "stdout",
     "output_type": "stream",
     "text": [
      "         Country     1990     1991     1992     1993     1994     1995  \\\n",
      "0    Afghanistan    128.2    133.5    139.0    144.7    150.7    156.9   \n",
      "1        Albania    676.0    408.0    260.0    453.0    736.0    904.0   \n",
      "2        Algeria   2684.0   1975.0   2033.0   2057.0   1675.0   1627.0   \n",
      "3        Andorra  47517.9  47592.4  47667.0  47741.7  47816.5  47891.5   \n",
      "4         Angola   1397.0   1310.0    978.0    688.0    485.0    586.0   \n",
      "..           ...      ...      ...      ...      ...      ...      ...   \n",
      "191      Vietnam    122.0    141.0    179.0    235.0    286.0    359.0   \n",
      "192    Palestine   1062.0   1101.0   1141.5   1183.5   1227.0   1322.0   \n",
      "193        Yemen    964.0   1076.0   1268.0   1478.0   1835.0    808.0   \n",
      "194       Zambia    542.0    475.0    452.0    432.0    432.0    437.0   \n",
      "195     Zimbabwe   1037.0    936.0    749.0    702.0    714.0    717.0   \n",
      "\n",
      "        1996     1997     1998  ...     2020     2021     2022     2023  \\\n",
      "0      163.4    170.1    177.1  ...    517.0    356.0    352.0    411.0   \n",
      "1     1010.0    707.0    817.0  ...   5353.0   6396.0   6870.0   8299.0   \n",
      "2     1783.0   1800.0   1772.0  ...   3758.0   4170.0   4982.0   5222.0   \n",
      "3    47966.6  48041.8  48117.1  ...  36974.0  41807.0  41379.0  43810.0   \n",
      "4      731.0    830.0    681.0  ...   1990.0   2445.0   3975.0   2967.0   \n",
      "..       ...      ...      ...  ...      ...      ...      ...      ...   \n",
      "191    419.0    449.0    448.0  ...   3549.0   3757.0   4102.0   4324.0   \n",
      "192   1296.0   1351.0   1417.0  ...   3045.0   3464.0   3579.0   3181.0   \n",
      "193    397.0    406.0    364.0  ...    633.0    594.0    706.0    552.0   \n",
      "194    404.0    471.0    378.0  ...    958.0   1135.0   1455.0   1369.0   \n",
      "195    850.0    881.0   1029.0  ...   1725.0   2265.0   2004.0   2119.0   \n",
      "\n",
      "        2024     2025     2026     2027     2028     2029  \n",
      "0      427.9    445.5    463.8    482.9    502.8    523.5  \n",
      "1     9598.0  10386.0  11211.0  11938.0  12714.0  13543.0  \n",
      "2     5579.0   5593.0   5646.0   5681.0   5706.0   5734.0  \n",
      "3    45279.0  45995.0  46819.0  47330.0  47873.0  48458.0  \n",
      "4     2961.0   2991.0   3030.0   3141.0   3222.0   3316.0  \n",
      "..       ...      ...      ...      ...      ...      ...  \n",
      "191   4649.0   4986.0   5326.0   5685.0   6056.0   6425.0  \n",
      "192   3297.9   3419.1   3544.8   3675.1   3810.2   3950.3  \n",
      "193    465.0    455.0    500.0    566.0    604.0    633.0  \n",
      "194   1226.0   1466.0   1652.0   1799.0   1895.0   1987.0  \n",
      "195   2114.0   2127.0   2098.0   2102.0   2093.0   2083.0  \n",
      "\n",
      "[196 rows x 41 columns]\n"
     ]
    }
   ],
   "source": [
    "\n",
    "def fill_nan_with_growth(df):\n",
    " \n",
    "    df.iloc[:, 1:] = df.iloc[:, 1:].astype(str)\n",
    "\n",
    "    \n",
    "    df.iloc[:, 1:] = df.iloc[:, 1:].replace(r'^\\s*$', np.nan, regex=True)\n",
    "\n",
    "   \n",
    "    df.iloc[:, 1:] = df.iloc[:, 1:].replace(',', '', regex=True).astype(float)\n",
    "\n",
    "    for index, row in df.iterrows():\n",
    "       \n",
    "        gdp_values = row[1:]\n",
    "\n",
    "        valid_gdp = gdp_values.dropna()\n",
    "        growth_rates = valid_gdp.pct_change().dropna()\n",
    "        avg_growth_rate = growth_rates.mean()\n",
    "\n",
    "       \n",
    "        for i in range(len(gdp_values)):\n",
    "            if pd.isna(gdp_values[i]):\n",
    "                if i > 0 and not pd.isna(gdp_values[i - 1]):\n",
    "                    gdp_values[i] = gdp_values[i - 1] * (1 + avg_growth_rate)\n",
    "                else:\n",
    "                  \n",
    "                    future_index = i + 1\n",
    "                    while future_index < len(gdp_values) and pd.isna(gdp_values[future_index]):\n",
    "                        future_index += 1\n",
    "\n",
    "                    if future_index < len(gdp_values):  \n",
    "                        future_value = gdp_values[future_index]\n",
    "                        steps = future_index - i\n",
    "                        gdp_values[i] = future_value / ((1 + avg_growth_rate) ** steps)  \n",
    "                    else:\n",
    "                        gdp_values[i] = np.nanmean(valid_gdp) \n",
    "                    \n",
    "                gdp_values[i] = gdp_values[i].round(1)\n",
    "\n",
    "    \n",
    "        df.iloc[index, 1:] = gdp_values\n",
    "\n",
    "fill_nan_with_growth(gdp_df)\n",
    "\n",
    "print(gdp_df)"
   ]
  },
  {
   "cell_type": "code",
   "execution_count": 8,
   "metadata": {},
   "outputs": [
    {
     "name": "stdout",
     "output_type": "stream",
     "text": [
      "['AIN', 'Cabo Verde', 'Chinese Taipei', 'Cuba', 'Czechia', \"Côte d'Ivoire\", \"Democratic People's Republic of Korea\", 'EOR', 'Great Britain', 'Hong Kong, China', 'Islamic Republic of Iran', \"People's Republic of China\", 'Republic of Korea', 'Republic of Moldova', 'Türkiye', 'United States of America', 'Bermuda', 'ROC', 'Syrian Arab Republic', 'Russian Federation', 'Serbia and Montenegro']\n"
     ]
    }
   ],
   "source": [
    "list1=[i for i in olympics_df[\"Country\"].unique() if i not in gdp_df[\"Country\"].unique()]\n",
    "print(list1)"
   ]
  },
  {
   "cell_type": "markdown",
   "metadata": {},
   "source": [
    "So countries that are in the olympics_df but not in the gdp_df are or are in different name"
   ]
  },
  {
   "cell_type": "code",
   "execution_count": 5,
   "metadata": {},
   "outputs": [],
   "source": [
    "country_mapping = {\n",
    "    'Cabo Verde': 'Cape Verde',\n",
    "    'Chinese Taipei': 'Taiwan',\n",
    "    'Czechia': 'Czech Republic',\n",
    "    \"Côte d'Ivoire\": \"Ivory Coast\",\n",
    "    'Hong Kong, China': 'Hong Kong',\n",
    "    \"Islamic Republic of Iran\": \"Iran\",\n",
    "    \"People's Republic of China\": \"China\",\n",
    "    'Republic of Korea': 'South Korea',\n",
    "    'Republic of Moldova': 'Moldova',\n",
    "    'Türkiye': 'Turkey',\n",
    "    'United States of America': 'United States',\n",
    "    'Syrian Arab Republic': 'Syria',\n",
    "    'ROC': 'Russia',\n",
    "    'Great Britain': 'United Kingdom',\n",
    "    'Russian Federation': 'Russia',\n",
    "    'Serbia and Montenegro': 'Serbia',\n",
    "}\n",
    "drop_rows={\n",
    "    'AIN','Cuba','EOR','Bermuda'\n",
    "}"
   ]
  },
  {
   "cell_type": "code",
   "execution_count": 6,
   "metadata": {},
   "outputs": [],
   "source": [
    "olympics_df['Country'] = olympics_df['Country'].replace(country_mapping)\n",
    "olympics_df = olympics_df[~olympics_df['Country'].isin(drop_rows)]"
   ]
  },
  {
   "cell_type": "code",
   "execution_count": 7,
   "metadata": {},
   "outputs": [
    {
     "data": {
      "text/html": [
       "<div>\n",
       "<style scoped>\n",
       "    .dataframe tbody tr th:only-of-type {\n",
       "        vertical-align: middle;\n",
       "    }\n",
       "\n",
       "    .dataframe tbody tr th {\n",
       "        vertical-align: top;\n",
       "    }\n",
       "\n",
       "    .dataframe thead th {\n",
       "        text-align: right;\n",
       "    }\n",
       "</style>\n",
       "<table border=\"1\" class=\"dataframe\">\n",
       "  <thead>\n",
       "    <tr style=\"text-align: right;\">\n",
       "      <th></th>\n",
       "      <th>Venue</th>\n",
       "      <th>Country</th>\n",
       "      <th>Gold</th>\n",
       "      <th>Silver</th>\n",
       "      <th>Bronze</th>\n",
       "      <th>Total</th>\n",
       "    </tr>\n",
       "  </thead>\n",
       "  <tbody>\n",
       "    <tr>\n",
       "      <th>1</th>\n",
       "      <td>paris-2024</td>\n",
       "      <td>Albania</td>\n",
       "      <td>0</td>\n",
       "      <td>0</td>\n",
       "      <td>2</td>\n",
       "      <td>2</td>\n",
       "    </tr>\n",
       "    <tr>\n",
       "      <th>2</th>\n",
       "      <td>paris-2024</td>\n",
       "      <td>Algeria</td>\n",
       "      <td>2</td>\n",
       "      <td>0</td>\n",
       "      <td>1</td>\n",
       "      <td>3</td>\n",
       "    </tr>\n",
       "    <tr>\n",
       "      <th>3</th>\n",
       "      <td>paris-2024</td>\n",
       "      <td>Argentina</td>\n",
       "      <td>1</td>\n",
       "      <td>1</td>\n",
       "      <td>1</td>\n",
       "      <td>3</td>\n",
       "    </tr>\n",
       "    <tr>\n",
       "      <th>4</th>\n",
       "      <td>paris-2024</td>\n",
       "      <td>Armenia</td>\n",
       "      <td>0</td>\n",
       "      <td>3</td>\n",
       "      <td>1</td>\n",
       "      <td>4</td>\n",
       "    </tr>\n",
       "    <tr>\n",
       "      <th>5</th>\n",
       "      <td>paris-2024</td>\n",
       "      <td>Australia</td>\n",
       "      <td>18</td>\n",
       "      <td>19</td>\n",
       "      <td>16</td>\n",
       "      <td>53</td>\n",
       "    </tr>\n",
       "    <tr>\n",
       "      <th>...</th>\n",
       "      <td>...</td>\n",
       "      <td>...</td>\n",
       "      <td>...</td>\n",
       "      <td>...</td>\n",
       "      <td>...</td>\n",
       "      <td>...</td>\n",
       "    </tr>\n",
       "    <tr>\n",
       "      <th>593</th>\n",
       "      <td>sydney-2000</td>\n",
       "      <td>Ukraine</td>\n",
       "      <td>3</td>\n",
       "      <td>10</td>\n",
       "      <td>10</td>\n",
       "      <td>23</td>\n",
       "    </tr>\n",
       "    <tr>\n",
       "      <th>594</th>\n",
       "      <td>sydney-2000</td>\n",
       "      <td>United States</td>\n",
       "      <td>37</td>\n",
       "      <td>24</td>\n",
       "      <td>32</td>\n",
       "      <td>93</td>\n",
       "    </tr>\n",
       "    <tr>\n",
       "      <th>595</th>\n",
       "      <td>sydney-2000</td>\n",
       "      <td>Uruguay</td>\n",
       "      <td>0</td>\n",
       "      <td>1</td>\n",
       "      <td>0</td>\n",
       "      <td>1</td>\n",
       "    </tr>\n",
       "    <tr>\n",
       "      <th>596</th>\n",
       "      <td>sydney-2000</td>\n",
       "      <td>Uzbekistan</td>\n",
       "      <td>1</td>\n",
       "      <td>1</td>\n",
       "      <td>2</td>\n",
       "      <td>4</td>\n",
       "    </tr>\n",
       "    <tr>\n",
       "      <th>597</th>\n",
       "      <td>sydney-2000</td>\n",
       "      <td>Vietnam</td>\n",
       "      <td>0</td>\n",
       "      <td>1</td>\n",
       "      <td>0</td>\n",
       "      <td>1</td>\n",
       "    </tr>\n",
       "  </tbody>\n",
       "</table>\n",
       "<p>588 rows × 6 columns</p>\n",
       "</div>"
      ],
      "text/plain": [
       "           Venue        Country  Gold  Silver  Bronze  Total\n",
       "1     paris-2024        Albania     0       0       2      2\n",
       "2     paris-2024        Algeria     2       0       1      3\n",
       "3     paris-2024      Argentina     1       1       1      3\n",
       "4     paris-2024        Armenia     0       3       1      4\n",
       "5     paris-2024      Australia    18      19      16     53\n",
       "..           ...            ...   ...     ...     ...    ...\n",
       "593  sydney-2000        Ukraine     3      10      10     23\n",
       "594  sydney-2000  United States    37      24      32     93\n",
       "595  sydney-2000        Uruguay     0       1       0      1\n",
       "596  sydney-2000     Uzbekistan     1       1       2      4\n",
       "597  sydney-2000        Vietnam     0       1       0      1\n",
       "\n",
       "[588 rows x 6 columns]"
      ]
     },
     "execution_count": 7,
     "metadata": {},
     "output_type": "execute_result"
    }
   ],
   "source": [
    "olympics_df"
   ]
  },
  {
   "cell_type": "code",
   "execution_count": 8,
   "metadata": {},
   "outputs": [],
   "source": [
    "olympics_df.to_csv('Olympic_medals(after_dataTransformation).csv', index=False)\n"
   ]
  },
  {
   "cell_type": "code",
   "execution_count": 15,
   "metadata": {},
   "outputs": [],
   "source": [
    "def drop_year(df, year):\n",
    "    return df.drop(columns=year)\n",
    "gdp_df = drop_year(gdp_df, [str(i) for i in range(1990,2030) if (i<1999 or i>2025)])\n"
   ]
  },
  {
   "cell_type": "code",
   "execution_count": 12,
   "metadata": {},
   "outputs": [
    {
     "name": "stdout",
     "output_type": "stream",
     "text": [
      "       Country  Year      GDP\n",
      "0  Afghanistan  1990    128.2\n",
      "1      Albania  1990    676.0\n",
      "2      Algeria  1990   2684.0\n",
      "3      Andorra  1990  47517.9\n",
      "4       Angola  1990   1397.0\n"
     ]
    }
   ],
   "source": [
    "df_melted = gdp_df.melt(id_vars=['Country'], var_name='Year', value_name='GDP')\n",
    "print(df_melted.head())"
   ]
  },
  {
   "cell_type": "code",
   "execution_count": 14,
   "metadata": {},
   "outputs": [],
   "source": [
    "df_melted.to_csv('gdp_per_capita(after_dataTransformation).csv', index=False)"
   ]
  }
 ],
 "metadata": {
  "kernelspec": {
   "display_name": "venv",
   "language": "python",
   "name": "python3"
  },
  "language_info": {
   "codemirror_mode": {
    "name": "ipython",
    "version": 3
   },
   "file_extension": ".py",
   "mimetype": "text/x-python",
   "name": "python",
   "nbconvert_exporter": "python",
   "pygments_lexer": "ipython3",
   "version": "3.13.1"
  }
 },
 "nbformat": 4,
 "nbformat_minor": 2
}
